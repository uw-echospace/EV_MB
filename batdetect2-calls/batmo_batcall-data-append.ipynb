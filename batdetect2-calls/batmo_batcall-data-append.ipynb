{
 "cells": [
  {
   "cell_type": "markdown",
   "metadata": {},
   "source": [
    "## This code attempts to reformat Aditya's cumulative calls .csv's"
   ]
  },
  {
   "cell_type": "code",
   "execution_count": 14,
   "metadata": {},
   "outputs": [
    {
     "name": "stdout",
     "output_type": "stream",
     "text": [
      "Reformatted .csv file saved successfully.\n"
     ]
    }
   ],
   "source": [
    "import pandas as pd\n",
    "\n",
    "# Replace with the correct file paths\n",
    "input_file_path = r'C:\\Users\\MBall\\PycharmProjects\\bat-detector-msds\\output_dir\\cumulative_plots\\cumulative_activity__Central_30T.csv'\n",
    "output_file_path = r'C:\\Users\\MBall\\PycharmProjects\\BATMO\\batmo\\batdetect2-calls\\cumulative_activity__Central_30T__formatted.csv'\n",
    "\n",
    "# Read the input .csv file\n",
    "df = pd.read_csv(input_file_path)\n",
    "\n",
    "# Rename the first column to 'Time'\n",
    "df.rename(columns={'Unnamed: 0': 'Time'}, inplace=True)\n",
    "\n",
    "# Reshape the DataFrame to have 'Date', 'Time', and 'Bat Calls' columns\n",
    "df_formatted = df.melt(id_vars=['Time'], var_name='Date', value_name='Bat Calls')\n",
    "\n",
    "# Save the reformatted DataFrame to a new .csv file\n",
    "df_formatted.to_csv(output_file_path, index=False)\n",
    "\n",
    "print(\"Reformatted .csv file saved successfully.\")\n",
    "\n"
   ]
  },
  {
   "cell_type": "code",
   "execution_count": 15,
   "metadata": {},
   "outputs": [
    {
     "name": "stdout",
     "output_type": "stream",
     "text": [
      "Reformatted .csv file saved successfully.\n"
     ]
    }
   ],
   "source": [
    "import pandas as pd\n",
    "\n",
    "# Replace with the correct file paths\n",
    "input_file_path = r'C:\\Users\\MBall\\PycharmProjects\\bat-detector-msds\\output_dir\\cumulative_plots\\cumulative_activity__Foliage_30T.csv'\n",
    "output_file_path = r'C:\\Users\\MBall\\PycharmProjects\\BATMO\\batmo\\batdetect2-calls\\cumulative_activity__Foliage_30T__formatted.csv'\n",
    "\n",
    "# Read the input .csv file\n",
    "df = pd.read_csv(input_file_path)\n",
    "\n",
    "# Rename the first column to 'Time'\n",
    "df.rename(columns={'Unnamed: 0': 'Time'}, inplace=True)\n",
    "\n",
    "# Reshape the DataFrame to have 'Date', 'Time', and 'Bat Calls' columns\n",
    "df_formatted = df.melt(id_vars=['Time'], var_name='Date', value_name='Bat Calls')\n",
    "\n",
    "# Save the reformatted DataFrame to a new .csv file\n",
    "df_formatted.to_csv(output_file_path, index=False)\n",
    "\n",
    "print(\"Reformatted .csv file saved successfully.\")\n"
   ]
  },
  {
   "cell_type": "code",
   "execution_count": 16,
   "metadata": {},
   "outputs": [
    {
     "name": "stdout",
     "output_type": "stream",
     "text": [
      "Reformatted .csv file saved successfully.\n"
     ]
    }
   ],
   "source": [
    "import pandas as pd\n",
    "\n",
    "# Replace with the correct file paths\n",
    "input_file_path = r'C:\\Users\\MBall\\PycharmProjects\\bat-detector-msds\\output_dir\\cumulative_plots\\cumulative_activity__Telephone_30T.csv'\n",
    "output_file_path = r'C:\\Users\\MBall\\PycharmProjects\\BATMO\\batmo\\batdetect2-calls\\cumulative_activity__Telephone_30T__formatted.csv'\n",
    "\n",
    "# Read the input .csv file\n",
    "df = pd.read_csv(input_file_path)\n",
    "\n",
    "# Rename the first column to 'Time'\n",
    "df.rename(columns={'Unnamed: 0': 'Time'}, inplace=True)\n",
    "\n",
    "# Reshape the DataFrame to have 'Date', 'Time', and 'Bat Calls' columns\n",
    "df_formatted = df.melt(id_vars=['Time'], var_name='Date', value_name='Bat Calls')\n",
    "\n",
    "# Save the reformatted DataFrame to a new .csv file\n",
    "df_formatted.to_csv(output_file_path, index=False)\n",
    "\n",
    "print(\"Reformatted .csv file saved successfully.\")\n"
   ]
  },
  {
   "cell_type": "markdown",
   "metadata": {},
   "source": [
    "## This code takes the specified files under file_name and appends the data in the master_df to update the .csv with most recent deployments"
   ]
  },
  {
   "cell_type": "code",
   "execution_count": 3,
   "metadata": {},
   "outputs": [],
   "source": [
    "import numpy as np\n",
    "import pandas as pd\n",
    "import dask.dataframe as dd"
   ]
  },
  {
   "cell_type": "code",
   "execution_count": null,
   "metadata": {},
   "outputs": [],
   "source": [
    "import pandas as pd\n",
    "from glob import glob\n",
    "import os\n",
    "\n",
    "# Define the names of the files you want to combine\n",
    "file_names = ['bd2__recover-20230717_UBNA_009.csv', 'bd2__recover-20230725_UBNA_001.csv']\n",
    "\n",
    "# Create an empty DataFrame to hold the combined data\n",
    "master_df = pd.DataFrame()\n",
    "\n",
    "# Define the base directory where the subdirectories containing the CSV files are located\n",
    "base_directory = 'C:/Users/MBall/PycharmProjects/bat-detector-msds/output_dir'\n",
    "\n",
    "# Loop through the list of file names and search for each CSV file in the subdirectories\n",
    "for file_name in file_names:\n",
    "    file_path = os.path.join(base_directory, '**', file_name)\n",
    "    files = glob(file_path, recursive=True)\n",
    "    # Loop through the list of files and read each CSV file into a DataFrame\n",
    "    for file in files:\n",
    "        df = pd.read_csv(file)\n",
    "        # Append the current DataFrame to the master DataFrame\n",
    "        master_df = master_df.append(df, ignore_index=True)\n",
    "\n",
    "# Define the full file path where you want to save the '2023-calls-centralpond.csv' file\n",
    "output_file_path = 'C:/Users/MBall/PycharmProjects/BATMO/batmo/batdetect2-calls/2023-calls-centralpond.csv'\n",
    "\n",
    "# Write the combined data to the specified file path without including the column names in the output\n",
    "master_df.to_csv(output_file_path, index=False, header=False, mode='a')\n",
    "\n",
    "print(\"Data combined and appended to the specified CSV file successfully.\")\n",
    "\n"
   ]
  },
  {
   "cell_type": "markdown",
   "metadata": {},
   "source": [
    "## Foliage"
   ]
  },
  {
   "cell_type": "code",
   "execution_count": 11,
   "metadata": {},
   "outputs": [
    {
     "name": "stderr",
     "output_type": "stream",
     "text": [
      "C:\\Users\\MBall\\AppData\\Local\\Temp\\ipykernel_35064\\3265281907.py:22: FutureWarning: The frame.append method is deprecated and will be removed from pandas in a future version. Use pandas.concat instead.\n",
      "  master_df = master_df.append(df, ignore_index=True)\n",
      "C:\\Users\\MBall\\AppData\\Local\\Temp\\ipykernel_35064\\3265281907.py:22: FutureWarning: The frame.append method is deprecated and will be removed from pandas in a future version. Use pandas.concat instead.\n",
      "  master_df = master_df.append(df, ignore_index=True)\n"
     ]
    },
    {
     "name": "stdout",
     "output_type": "stream",
     "text": [
      "Data combined and appended to the specified CSV file successfully.\n"
     ]
    }
   ],
   "source": [
    "import pandas as pd\n",
    "from glob import glob\n",
    "import os\n",
    "\n",
    "# Define the names of the files you want to combine\n",
    "file_names = ['bd2__recover-20230717_UBNA_007.csv']\n",
    "\n",
    "# Create an empty DataFrame to hold the combined data\n",
    "master_df = pd.DataFrame()\n",
    "\n",
    "# Define the base directory where the subdirectories containing the CSV files are located\n",
    "base_directory = 'C:/Users/MBall/PycharmProjects/bat-detector-msds/output_dir'\n",
    "\n",
    "# Loop through the list of file names and search for each CSV file in the subdirectories\n",
    "for file_name in file_names:\n",
    "    file_path = os.path.join(base_directory, '**', file_name)\n",
    "    files = glob(file_path, recursive=True)\n",
    "    # Loop through the list of files and read each CSV file into a DataFrame\n",
    "    for file in files:\n",
    "        df = pd.read_csv(file)\n",
    "        # Append the current DataFrame to the master DataFrame\n",
    "        master_df = master_df.append(df, ignore_index=True)\n",
    "\n",
    "# Define the full file path where you want to save the '2023-calls-centralpond.csv' file\n",
    "output_file_path = 'C:/Users/MBall/PycharmProjects/BATMO/batmo/batdetect2-calls/2023-calls-foliage.csv'\n",
    "\n",
    "# Write the combined data to the specified file path without including the column names in the output\n",
    "master_df.to_csv(output_file_path, index=False, header=False, mode='a')\n",
    "\n",
    "print(\"Data combined and appended to the specified CSV file successfully.\")\n",
    "\n"
   ]
  },
  {
   "cell_type": "markdown",
   "metadata": {},
   "source": [
    "## Central Pond"
   ]
  },
  {
   "cell_type": "code",
   "execution_count": 10,
   "metadata": {},
   "outputs": [
    {
     "name": "stderr",
     "output_type": "stream",
     "text": [
      "C:\\Users\\MBall\\AppData\\Local\\Temp\\ipykernel_35064\\3195454401.py:22: FutureWarning: The frame.append method is deprecated and will be removed from pandas in a future version. Use pandas.concat instead.\n",
      "  master_df = master_df.append(df, ignore_index=True)\n",
      "C:\\Users\\MBall\\AppData\\Local\\Temp\\ipykernel_35064\\3195454401.py:22: FutureWarning: The frame.append method is deprecated and will be removed from pandas in a future version. Use pandas.concat instead.\n",
      "  master_df = master_df.append(df, ignore_index=True)\n"
     ]
    },
    {
     "name": "stdout",
     "output_type": "stream",
     "text": [
      "Data combined and appended to the specified CSV file successfully.\n"
     ]
    }
   ],
   "source": [
    "import pandas as pd\n",
    "from glob import glob\n",
    "import os\n",
    "\n",
    "# Define the names of the files you want to combine\n",
    "file_names = ['bd2__recover-20230717_UBNA_009.csv', 'bd2__recover-20230725_UBNA_001.csv']\n",
    "\n",
    "# Create an empty DataFrame to hold the combined data\n",
    "master_df = pd.DataFrame()\n",
    "\n",
    "# Define the base directory where the subdirectories containing the CSV files are located\n",
    "base_directory = 'C:/Users/MBall/PycharmProjects/bat-detector-msds/output_dir'\n",
    "\n",
    "# Loop through the list of file names and search for each CSV file in the subdirectories\n",
    "for file_name in file_names:\n",
    "    file_path = os.path.join(base_directory, '**', file_name)\n",
    "    files = glob(file_path, recursive=True)\n",
    "    # Loop through the list of files and read each CSV file into a DataFrame\n",
    "    for file in files:\n",
    "        df = pd.read_csv(file)\n",
    "        # Append the current DataFrame to the master DataFrame\n",
    "        master_df = master_df.append(df, ignore_index=True)\n",
    "\n",
    "# Define the full file path where you want to save the '2023-calls-centralpond.csv' file\n",
    "output_file_path = 'C:/Users/MBall/PycharmProjects/BATMO/batmo/batdetect2-calls/2023-calls-centralpond.csv'\n",
    "\n",
    "# Write the combined data to the specified file path without including the column names in the output\n",
    "master_df.to_csv(output_file_path, index=False, header=False, mode='a')\n",
    "\n",
    "print(\"Data combined and appended to the specified CSV file successfully.\")\n",
    "\n"
   ]
  },
  {
   "cell_type": "code",
   "execution_count": 12,
   "metadata": {},
   "outputs": [
    {
     "name": "stderr",
     "output_type": "stream",
     "text": [
      "C:\\Users\\MBall\\AppData\\Local\\Temp\\ipykernel_35064\\809563978.py:22: FutureWarning: The frame.append method is deprecated and will be removed from pandas in a future version. Use pandas.concat instead.\n",
      "  master_df = master_df.append(df, ignore_index=True)\n",
      "C:\\Users\\MBall\\AppData\\Local\\Temp\\ipykernel_35064\\809563978.py:22: FutureWarning: The frame.append method is deprecated and will be removed from pandas in a future version. Use pandas.concat instead.\n",
      "  master_df = master_df.append(df, ignore_index=True)\n"
     ]
    },
    {
     "name": "stdout",
     "output_type": "stream",
     "text": [
      "Data combined and appended to the specified CSV file successfully.\n"
     ]
    }
   ],
   "source": [
    "import pandas as pd\n",
    "from glob import glob\n",
    "import os\n",
    "\n",
    "# Define the names of the files you want to combine\n",
    "file_names = ['bd2__recover-20230717_UBNA_004.csv']\n",
    "\n",
    "# Create an empty DataFrame to hold the combined data\n",
    "master_df = pd.DataFrame()\n",
    "\n",
    "# Define the base directory where the subdirectories containing the CSV files are located\n",
    "base_directory = 'C:/Users/MBall/PycharmProjects/bat-detector-msds/output_dir'\n",
    "\n",
    "# Loop through the list of file names and search for each CSV file in the subdirectories\n",
    "for file_name in file_names:\n",
    "    file_path = os.path.join(base_directory, '**', file_name)\n",
    "    files = glob(file_path, recursive=True)\n",
    "    # Loop through the list of files and read each CSV file into a DataFrame\n",
    "    for file in files:\n",
    "        df = pd.read_csv(file)\n",
    "        # Append the current DataFrame to the master DataFrame\n",
    "        master_df = master_df.append(df, ignore_index=True)\n",
    "\n",
    "# Define the full file path where you want to save the '2023-calls-centralpond.csv' file\n",
    "output_file_path = 'C:/Users/MBall/PycharmProjects/BATMO/batmo/batdetect2-calls/2023-calls-telephonefield.csv'\n",
    "\n",
    "# Write the combined data to the specified file path without including the column names in the output\n",
    "master_df.to_csv(output_file_path, index=False, header=False, mode='a')\n",
    "\n",
    "print(\"Data combined and appended to the specified CSV file successfully.\")\n"
   ]
  },
  {
   "cell_type": "code",
   "execution_count": null,
   "metadata": {},
   "outputs": [],
   "source": []
  },
  {
   "cell_type": "code",
   "execution_count": null,
   "metadata": {},
   "outputs": [],
   "source": [
    "import pandas as pd\n",
    "\n",
    "# Assuming you already have a DataFrame called 'df'\n",
    "# For example, you might have created it by reading a CSV file or through some other process\n",
    "\n",
    "# Replace 'data.csv' with your desired file name and path\n",
    "file_path = '/Users/MBall/PycharmProjects/BATMO/batmo/batdetect2-calls/2023-calls-centralpond.csv'\n",
    "\n",
    "# Save the DataFrame to CSV\n",
    "df.to_csv(file_path, index=False)\n",
    "\n",
    "print(\"DataFrame saved to CSV file successfully.\")"
   ]
  }
 ],
 "metadata": {
  "kernelspec": {
   "display_name": "batmo",
   "language": "python",
   "name": "python3"
  },
  "language_info": {
   "codemirror_mode": {
    "name": "ipython",
    "version": 3
   },
   "file_extension": ".py",
   "mimetype": "text/x-python",
   "name": "python",
   "nbconvert_exporter": "python",
   "pygments_lexer": "ipython3",
   "version": "3.11.4"
  },
  "orig_nbformat": 4
 },
 "nbformat": 4,
 "nbformat_minor": 2
}
