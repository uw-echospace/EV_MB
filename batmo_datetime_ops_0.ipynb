{
 "cells": [
  {
   "cell_type": "code",
   "execution_count": 3,
   "id": "b00cf6bd",
   "metadata": {},
   "outputs": [
    {
     "data": {
      "text/plain": [
       "datetime.datetime(2005, 7, 14, 12, 30)"
      ]
     },
     "execution_count": 3,
     "metadata": {},
     "output_type": "execute_result"
    }
   ],
   "source": [
    "from datetime import datetime, date, time, timezone\n",
    "\n",
    "# Using datetime.combine()\n",
    "d = date(2005, 7, 14)\n",
    "t = time(12, 30)\n",
    "datetime.combine(d, t)"
   ]
  },
  {
   "cell_type": "code",
   "execution_count": 4,
   "id": "8cba1b05",
   "metadata": {},
   "outputs": [],
   "source": [
    "import pandas as pd"
   ]
  },
  {
   "cell_type": "code",
   "execution_count": 1,
   "id": "813f5eaf",
   "metadata": {},
   "outputs": [],
   "source": [
    "env_file = \"/Users/MBall/PycharmProjects/BATMO/batmo/2023-uwa.csv\""
   ]
  },
  {
   "cell_type": "code",
   "execution_count": 5,
   "id": "54bd3606",
   "metadata": {},
   "outputs": [],
   "source": [
    "df = pd.read_csv(env_file, skiprows=1)"
   ]
  },
  {
   "cell_type": "code",
   "execution_count": 6,
   "id": "32736f31",
   "metadata": {},
   "outputs": [
    {
     "data": {
      "text/html": [
       "<div>\n",
       "<style scoped>\n",
       "    .dataframe tbody tr th:only-of-type {\n",
       "        vertical-align: middle;\n",
       "    }\n",
       "\n",
       "    .dataframe tbody tr th {\n",
       "        vertical-align: top;\n",
       "    }\n",
       "\n",
       "    .dataframe thead th {\n",
       "        text-align: right;\n",
       "    }\n",
       "</style>\n",
       "<table border=\"1\" class=\"dataframe\">\n",
       "  <thead>\n",
       "    <tr style=\"text-align: right;\">\n",
       "      <th></th>\n",
       "      <th>Pseudo-Julian-Date</th>\n",
       "      <th>Date</th>\n",
       "      <th>Time</th>\n",
       "      <th>Temperature</th>\n",
       "      <th>Dewpoint</th>\n",
       "      <th>Relhum</th>\n",
       "      <th>Speed</th>\n",
       "      <th>Gust</th>\n",
       "      <th>Direction</th>\n",
       "      <th>Pressure</th>\n",
       "      <th>Solar</th>\n",
       "      <th>SumRain</th>\n",
       "      <th>Rain</th>\n",
       "    </tr>\n",
       "  </thead>\n",
       "  <tbody>\n",
       "    <tr>\n",
       "      <th>0</th>\n",
       "      <td>2.460097e+06</td>\n",
       "      <td>2023-06-01</td>\n",
       "      <td>00:00</td>\n",
       "      <td>61.0</td>\n",
       "      <td>42.7</td>\n",
       "      <td>50.8</td>\n",
       "      <td>5.8</td>\n",
       "      <td>6.3</td>\n",
       "      <td>292</td>\n",
       "      <td>1014.2</td>\n",
       "      <td>297.0</td>\n",
       "      <td>0.00</td>\n",
       "      <td>0.0</td>\n",
       "    </tr>\n",
       "    <tr>\n",
       "      <th>1</th>\n",
       "      <td>2.460097e+06</td>\n",
       "      <td>2023-06-01</td>\n",
       "      <td>00:01</td>\n",
       "      <td>61.2</td>\n",
       "      <td>42.7</td>\n",
       "      <td>50.5</td>\n",
       "      <td>8.3</td>\n",
       "      <td>9.1</td>\n",
       "      <td>285</td>\n",
       "      <td>1014.2</td>\n",
       "      <td>305.0</td>\n",
       "      <td>0.00</td>\n",
       "      <td>0.0</td>\n",
       "    </tr>\n",
       "    <tr>\n",
       "      <th>2</th>\n",
       "      <td>2.460097e+06</td>\n",
       "      <td>2023-06-01</td>\n",
       "      <td>00:02</td>\n",
       "      <td>61.3</td>\n",
       "      <td>42.9</td>\n",
       "      <td>50.7</td>\n",
       "      <td>6.0</td>\n",
       "      <td>8.9</td>\n",
       "      <td>326</td>\n",
       "      <td>1014.2</td>\n",
       "      <td>297.2</td>\n",
       "      <td>0.00</td>\n",
       "      <td>0.0</td>\n",
       "    </tr>\n",
       "    <tr>\n",
       "      <th>3</th>\n",
       "      <td>2.460097e+06</td>\n",
       "      <td>2023-06-01</td>\n",
       "      <td>00:03</td>\n",
       "      <td>61.4</td>\n",
       "      <td>43.0</td>\n",
       "      <td>50.7</td>\n",
       "      <td>4.1</td>\n",
       "      <td>5.6</td>\n",
       "      <td>285</td>\n",
       "      <td>1014.1</td>\n",
       "      <td>297.2</td>\n",
       "      <td>0.00</td>\n",
       "      <td>0.0</td>\n",
       "    </tr>\n",
       "    <tr>\n",
       "      <th>4</th>\n",
       "      <td>2.460097e+06</td>\n",
       "      <td>2023-06-01</td>\n",
       "      <td>00:04</td>\n",
       "      <td>61.6</td>\n",
       "      <td>42.9</td>\n",
       "      <td>50.2</td>\n",
       "      <td>8.1</td>\n",
       "      <td>9.4</td>\n",
       "      <td>275</td>\n",
       "      <td>1014.1</td>\n",
       "      <td>296.6</td>\n",
       "      <td>0.00</td>\n",
       "      <td>0.0</td>\n",
       "    </tr>\n",
       "    <tr>\n",
       "      <th>...</th>\n",
       "      <td>...</td>\n",
       "      <td>...</td>\n",
       "      <td>...</td>\n",
       "      <td>...</td>\n",
       "      <td>...</td>\n",
       "      <td>...</td>\n",
       "      <td>...</td>\n",
       "      <td>...</td>\n",
       "      <td>...</td>\n",
       "      <td>...</td>\n",
       "      <td>...</td>\n",
       "      <td>...</td>\n",
       "      <td>...</td>\n",
       "    </tr>\n",
       "    <tr>\n",
       "      <th>71732</th>\n",
       "      <td>2.460147e+06</td>\n",
       "      <td>2023-07-20</td>\n",
       "      <td>19:32</td>\n",
       "      <td>74.2</td>\n",
       "      <td>56.2</td>\n",
       "      <td>53.6</td>\n",
       "      <td>9.1</td>\n",
       "      <td>12.2</td>\n",
       "      <td>245</td>\n",
       "      <td>1014.7</td>\n",
       "      <td>868.1</td>\n",
       "      <td>1.42</td>\n",
       "      <td>0.0</td>\n",
       "    </tr>\n",
       "    <tr>\n",
       "      <th>71733</th>\n",
       "      <td>2.460147e+06</td>\n",
       "      <td>2023-07-20</td>\n",
       "      <td>19:33</td>\n",
       "      <td>74.2</td>\n",
       "      <td>55.9</td>\n",
       "      <td>52.8</td>\n",
       "      <td>8.6</td>\n",
       "      <td>12.3</td>\n",
       "      <td>251</td>\n",
       "      <td>1014.7</td>\n",
       "      <td>870.2</td>\n",
       "      <td>1.42</td>\n",
       "      <td>0.0</td>\n",
       "    </tr>\n",
       "    <tr>\n",
       "      <th>71734</th>\n",
       "      <td>2.460147e+06</td>\n",
       "      <td>2023-07-20</td>\n",
       "      <td>19:34</td>\n",
       "      <td>74.0</td>\n",
       "      <td>56.1</td>\n",
       "      <td>53.6</td>\n",
       "      <td>9.7</td>\n",
       "      <td>14.2</td>\n",
       "      <td>237</td>\n",
       "      <td>1014.7</td>\n",
       "      <td>871.4</td>\n",
       "      <td>1.42</td>\n",
       "      <td>0.0</td>\n",
       "    </tr>\n",
       "    <tr>\n",
       "      <th>71735</th>\n",
       "      <td>2.460147e+06</td>\n",
       "      <td>2023-07-20</td>\n",
       "      <td>19:35</td>\n",
       "      <td>73.9</td>\n",
       "      <td>56.2</td>\n",
       "      <td>54.0</td>\n",
       "      <td>8.7</td>\n",
       "      <td>10.7</td>\n",
       "      <td>238</td>\n",
       "      <td>1014.8</td>\n",
       "      <td>872.4</td>\n",
       "      <td>1.42</td>\n",
       "      <td>0.0</td>\n",
       "    </tr>\n",
       "    <tr>\n",
       "      <th>71736</th>\n",
       "      <td>2.460147e+06</td>\n",
       "      <td>2023-07-20</td>\n",
       "      <td>19:36</td>\n",
       "      <td>73.8</td>\n",
       "      <td>55.7</td>\n",
       "      <td>53.1</td>\n",
       "      <td>12.3</td>\n",
       "      <td>13.2</td>\n",
       "      <td>244</td>\n",
       "      <td>1014.8</td>\n",
       "      <td>873.1</td>\n",
       "      <td>1.42</td>\n",
       "      <td>0.0</td>\n",
       "    </tr>\n",
       "  </tbody>\n",
       "</table>\n",
       "<p>71737 rows × 13 columns</p>\n",
       "</div>"
      ],
      "text/plain": [
       "        Pseudo-Julian-Date        Date   Time  Temperature  Dewpoint  Relhum  \\\n",
       "0             2.460097e+06  2023-06-01  00:00         61.0      42.7    50.8   \n",
       "1             2.460097e+06  2023-06-01  00:01         61.2      42.7    50.5   \n",
       "2             2.460097e+06  2023-06-01  00:02         61.3      42.9    50.7   \n",
       "3             2.460097e+06  2023-06-01  00:03         61.4      43.0    50.7   \n",
       "4             2.460097e+06  2023-06-01  00:04         61.6      42.9    50.2   \n",
       "...                    ...         ...    ...          ...       ...     ...   \n",
       "71732         2.460147e+06  2023-07-20  19:32         74.2      56.2    53.6   \n",
       "71733         2.460147e+06  2023-07-20  19:33         74.2      55.9    52.8   \n",
       "71734         2.460147e+06  2023-07-20  19:34         74.0      56.1    53.6   \n",
       "71735         2.460147e+06  2023-07-20  19:35         73.9      56.2    54.0   \n",
       "71736         2.460147e+06  2023-07-20  19:36         73.8      55.7    53.1   \n",
       "\n",
       "       Speed  Gust  Direction  Pressure  Solar  SumRain  Rain  \n",
       "0        5.8   6.3        292    1014.2  297.0     0.00   0.0  \n",
       "1        8.3   9.1        285    1014.2  305.0     0.00   0.0  \n",
       "2        6.0   8.9        326    1014.2  297.2     0.00   0.0  \n",
       "3        4.1   5.6        285    1014.1  297.2     0.00   0.0  \n",
       "4        8.1   9.4        275    1014.1  296.6     0.00   0.0  \n",
       "...      ...   ...        ...       ...    ...      ...   ...  \n",
       "71732    9.1  12.2        245    1014.7  868.1     1.42   0.0  \n",
       "71733    8.6  12.3        251    1014.7  870.2     1.42   0.0  \n",
       "71734    9.7  14.2        237    1014.7  871.4     1.42   0.0  \n",
       "71735    8.7  10.7        238    1014.8  872.4     1.42   0.0  \n",
       "71736   12.3  13.2        244    1014.8  873.1     1.42   0.0  \n",
       "\n",
       "[71737 rows x 13 columns]"
      ]
     },
     "execution_count": 6,
     "metadata": {},
     "output_type": "execute_result"
    }
   ],
   "source": [
    "df"
   ]
  },
  {
   "cell_type": "code",
   "execution_count": 7,
   "id": "7ba54f09",
   "metadata": {},
   "outputs": [
    {
     "data": {
      "text/plain": [
       "Index([' Pseudo-Julian-Date', 'Date', 'Time', 'Temperature', 'Dewpoint',\n",
       "       'Relhum', 'Speed', 'Gust', 'Direction', 'Pressure', 'Solar', 'SumRain',\n",
       "       'Rain'],\n",
       "      dtype='object')"
      ]
     },
     "execution_count": 7,
     "metadata": {},
     "output_type": "execute_result"
    }
   ],
   "source": [
    "df.columns"
   ]
  },
  {
   "cell_type": "code",
   "execution_count": 8,
   "id": "28a48cd2",
   "metadata": {},
   "outputs": [
    {
     "data": {
      "text/plain": [
       "'2023-06-01'"
      ]
     },
     "execution_count": 8,
     "metadata": {},
     "output_type": "execute_result"
    }
   ],
   "source": [
    "df[\"Date\"].iloc[100]"
   ]
  },
  {
   "cell_type": "code",
   "execution_count": 9,
   "id": "787069ba",
   "metadata": {},
   "outputs": [
    {
     "data": {
      "text/plain": [
       "'01:40'"
      ]
     },
     "execution_count": 9,
     "metadata": {},
     "output_type": "execute_result"
    }
   ],
   "source": [
    "df[\"Time\"].iloc[100]"
   ]
  },
  {
   "cell_type": "code",
   "execution_count": 10,
   "id": "f2274149",
   "metadata": {},
   "outputs": [],
   "source": [
    "date = datetime.strptime(df[\"Date\"].iloc[100], \"%Y-%m-%d\")"
   ]
  },
  {
   "cell_type": "code",
   "execution_count": 11,
   "id": "2f691565",
   "metadata": {},
   "outputs": [
    {
     "data": {
      "text/plain": [
       "datetime.datetime"
      ]
     },
     "execution_count": 11,
     "metadata": {},
     "output_type": "execute_result"
    }
   ],
   "source": [
    "type(date)"
   ]
  },
  {
   "cell_type": "code",
   "execution_count": 12,
   "id": "b533b79d",
   "metadata": {},
   "outputs": [
    {
     "data": {
      "text/plain": [
       "datetime.date"
      ]
     },
     "execution_count": 12,
     "metadata": {},
     "output_type": "execute_result"
    }
   ],
   "source": [
    "type(date.date())"
   ]
  },
  {
   "cell_type": "code",
   "execution_count": 13,
   "id": "6c4444e4",
   "metadata": {},
   "outputs": [],
   "source": [
    "time = datetime.strptime(df[\"Time\"].iloc[100], \"%H:%M\")"
   ]
  },
  {
   "cell_type": "code",
   "execution_count": 14,
   "id": "0d806078",
   "metadata": {},
   "outputs": [
    {
     "data": {
      "text/plain": [
       "datetime.time"
      ]
     },
     "execution_count": 14,
     "metadata": {},
     "output_type": "execute_result"
    }
   ],
   "source": [
    "type(time.time())"
   ]
  },
  {
   "cell_type": "code",
   "execution_count": 15,
   "id": "96234d9a",
   "metadata": {},
   "outputs": [],
   "source": [
    "combined_datetime = datetime.combine(date.date(), time.time())"
   ]
  },
  {
   "cell_type": "code",
   "execution_count": 16,
   "id": "e8501795",
   "metadata": {},
   "outputs": [
    {
     "data": {
      "text/plain": [
       "datetime.datetime(2023, 6, 1, 1, 40)"
      ]
     },
     "execution_count": 16,
     "metadata": {},
     "output_type": "execute_result"
    }
   ],
   "source": [
    "combined_datetime"
   ]
  },
  {
   "cell_type": "code",
   "execution_count": 17,
   "id": "51a13783",
   "metadata": {},
   "outputs": [
    {
     "data": {
      "text/plain": [
       "datetime.datetime(2023, 6, 2, 1, 40)"
      ]
     },
     "execution_count": 17,
     "metadata": {},
     "output_type": "execute_result"
    }
   ],
   "source": [
    "combined_datetime2 = combined_datetime + pd.Timedelta(1, \"d\")\n",
    "combined_datetime2"
   ]
  },
  {
   "cell_type": "code",
   "execution_count": 55,
   "id": "0aa55fde",
   "metadata": {},
   "outputs": [
    {
     "name": "stdout",
     "output_type": "stream",
     "text": [
      "yes\n"
     ]
    }
   ],
   "source": [
    "if combined_datetime2 > combined_datetime:\n",
    "    print(\"yes\")\n",
    "else:\n",
    "    print(\"no\")"
   ]
  },
  {
   "cell_type": "code",
   "execution_count": null,
   "id": "94d9c1d6",
   "metadata": {},
   "outputs": [],
   "source": []
  },
  {
   "cell_type": "code",
   "execution_count": null,
   "id": "16935591",
   "metadata": {},
   "outputs": [],
   "source": []
  },
  {
   "cell_type": "code",
   "execution_count": null,
   "id": "bb445e43",
   "metadata": {},
   "outputs": [],
   "source": []
  },
  {
   "cell_type": "code",
   "execution_count": null,
   "id": "756655d6",
   "metadata": {},
   "outputs": [],
   "source": []
  },
  {
   "cell_type": "code",
   "execution_count": null,
   "id": "11b4c065",
   "metadata": {},
   "outputs": [],
   "source": []
  },
  {
   "cell_type": "code",
   "execution_count": null,
   "id": "9fdaa82c",
   "metadata": {},
   "outputs": [],
   "source": []
  }
 ],
 "metadata": {
  "kernelspec": {
   "display_name": "batmo",
   "language": "python",
   "name": "python3"
  },
  "language_info": {
   "codemirror_mode": {
    "name": "ipython",
    "version": 3
   },
   "file_extension": ".py",
   "mimetype": "text/x-python",
   "name": "python",
   "nbconvert_exporter": "python",
   "pygments_lexer": "ipython3",
   "version": "3.11.4"
  }
 },
 "nbformat": 4,
 "nbformat_minor": 5
}
